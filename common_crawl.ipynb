{
 "cells": [
  {
   "cell_type": "code",
   "execution_count": 20,
   "metadata": {},
   "outputs": [
    {
     "name": "stdout",
     "output_type": "stream",
     "text": [
      "^C\n"
     ]
    }
   ],
   "source": [
    "!wget https://data.commoncrawl.org/cc-index/table/cc-main/warc/crawl=CC-MAIN-2022-40/subset=warc/part-00000-26160df0-1827-4787-a515-95ecaa2c9688.c000.gz.parquet"
   ]
  },
  {
   "cell_type": "code",
   "execution_count": 51,
   "metadata": {},
   "outputs": [],
   "source": [
    "import pandas as pd\n",
    "from tqdm import tqdm\n",
    "from time import sleep\n",
    "import wget"
   ]
  },
  {
   "cell_type": "code",
   "execution_count": 47,
   "metadata": {},
   "outputs": [],
   "source": [
    "path = 'https://data.commoncrawl.org/'\n",
    "urls = pd.read_csv('cc-index-table.paths',header=None)"
   ]
  },
  {
   "cell_type": "code",
   "execution_count": 56,
   "metadata": {},
   "outputs": [],
   "source": [
    "def get_index(path, current_file=None):\n",
    "    try:\n",
    "        if current_file is not None:\n",
    "            wget.download(path, out=current_file)\n",
    "        else:\n",
    "            wget.download(path)\n",
    "    except:\n",
    "        print('Error downloading', path)\n",
    "        "
   ]
  },
  {
   "cell_type": "code",
   "execution_count": 57,
   "metadata": {},
   "outputs": [
    {
     "name": "stderr",
     "output_type": "stream",
     "text": [
      "  0%|          | 0/1 [00:00<?, ?it/s]"
     ]
    }
   ],
   "source": [
    "for i in tqdm(range(1)):\n",
    "    current_file = 'current_index.gz.parquet'\n",
    "    filename = urls[0][i]\n",
    "    url = path + filename\n",
    "    # get_index(url, current_file)\n",
    "    print(f\"Downloaded {filename}\")\n",
    "    df = pd.read_parquet(current_file)  \n",
    "    df = df[df['content_languages'].str.startswith('hu', na=False)]\n",
    "    df.to_csv('hungarian.csv', mode='a', header=False, index=False)\n",
    "    "
   ]
  },
  {
   "cell_type": "code",
   "execution_count": 33,
   "metadata": {},
   "outputs": [],
   "source": [
    "import pandas as pd\n",
    "filename = 'part-00000-26160df0-1827-4787-a515-95ecaa2c9688.c000.gz.parquet'\n",
    "df = pd.read_parquet(filename)  "
   ]
  },
  {
   "cell_type": "code",
   "execution_count": 34,
   "metadata": {},
   "outputs": [
    {
     "data": {
      "text/plain": [
       "80000"
      ]
     },
     "execution_count": 34,
     "metadata": {},
     "output_type": "execute_result"
    }
   ],
   "source": [
    "len(list(set(df[\"warc_filename\"])))"
   ]
  },
  {
   "cell_type": "code",
   "execution_count": 2,
   "metadata": {},
   "outputs": [],
   "source": [
    "df = df[df['content_languages'].str.startswith('hu', na=False)]\n",
    "df.to_csv('hungarian.csv')\n"
   ]
  },
  {
   "cell_type": "code",
   "execution_count": 30,
   "metadata": {},
   "outputs": [
    {
     "name": "stdout",
     "output_type": "stream",
     "text": [
      "https://data.commoncrawl.org/crawl-data/CC-MAIN-2022-40/segments/1664030338073.68/warc/CC-MAIN-20221007112411-20221007142411-00737.warc.gz\n"
     ]
    }
   ],
   "source": [
    "#load the csv file\n",
    "base_str = \"https://data.commoncrawl.org/\"\n",
    "df = pd.read_csv('hungarian.csv')\n",
    "path = df[\"warc_filename\"][0]\n",
    "url = base_str + path\n",
    "print(url)"
   ]
  },
  {
   "cell_type": "code",
   "execution_count": 32,
   "metadata": {},
   "outputs": [
    {
     "data": {
      "text/plain": [
       "40855"
      ]
     },
     "execution_count": 32,
     "metadata": {},
     "output_type": "execute_result"
    }
   ],
   "source": [
    "len(list(set(df[\"warc_filename\"])))"
   ]
  },
  {
   "cell_type": "code",
   "execution_count": null,
   "metadata": {},
   "outputs": [],
   "source": [
    "https://data.commoncrawl.org/crawl-data/CC-MAIN-2022-40/segments/1664030338073.68/wet/CC-MAIN-20221007112411-20221007142411-00737.warc.wet.gz\n"
   ]
  },
  {
   "cell_type": "code",
   "execution_count": 8,
   "metadata": {},
   "outputs": [],
   "source": [
    "# open text file and read the content in a list\n",
    "with open('CC-MAIN-20221007112411-20221007142411-00737.warc.wet', 'r', encoding=\"utf8\" ) as filehandle:\n",
    "    filecontent = filehandle.readlines()\n"
   ]
  },
  {
   "cell_type": "code",
   "execution_count": 21,
   "metadata": {},
   "outputs": [],
   "source": [
    "def get_hungarian_from_wet(filecontent):\n",
    "    idx = 0\n",
    "    contents = []\n",
    "    while idx < len(filecontent):\n",
    "        if filecontent[idx].startswith(\"WARC-Identified-Content-Language:\"):\n",
    "            if \"hun\" in filecontent[idx] and filecontent[idx+1] == \"Content-Type: text/plain\\n\":\n",
    "                idx = idx + 3\n",
    "                while not (filecontent[idx] == \"\\n\" and filecontent[idx+1] == \"\\n\" ):\n",
    "                    contents.append(filecontent[idx])\n",
    "                    idx +=1\n",
    "        idx += 1\n",
    "\n",
    "    return contents\n",
    "        \n",
    "    "
   ]
  },
  {
   "cell_type": "code",
   "execution_count": 22,
   "metadata": {},
   "outputs": [],
   "source": [
    "hun = get_hungarian_from_wet(filecontent)"
   ]
  },
  {
   "cell_type": "code",
   "execution_count": 28,
   "metadata": {},
   "outputs": [
    {
     "data": {
      "text/plain": [
       "'Pinworm latinul, Helminth pinworm kezelés. Tartalomjegyzék, Pinworm kezelési fórum\\n'"
      ]
     },
     "execution_count": 28,
     "metadata": {},
     "output_type": "execute_result"
    }
   ],
   "source": [
    "hun[3]"
   ]
  },
  {
   "cell_type": "code",
   "execution_count": null,
   "metadata": {},
   "outputs": [],
   "source": []
  }
 ],
 "metadata": {
  "kernelspec": {
   "display_name": "Python 3",
   "language": "python",
   "name": "python3"
  },
  "language_info": {
   "codemirror_mode": {
    "name": "ipython",
    "version": 3
   },
   "file_extension": ".py",
   "mimetype": "text/x-python",
   "name": "python",
   "nbconvert_exporter": "python",
   "pygments_lexer": "ipython3",
   "version": "3.10.6"
  },
  "orig_nbformat": 4,
  "vscode": {
   "interpreter": {
    "hash": "44e16c534368ac064e61b58658c807d154c8537c572d240df5d25e3eee4632f0"
   }
  }
 },
 "nbformat": 4,
 "nbformat_minor": 2
}
