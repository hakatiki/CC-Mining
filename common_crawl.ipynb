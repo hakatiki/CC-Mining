{
 "cells": [
  {
   "cell_type": "code",
   "execution_count": 17,
   "metadata": {},
   "outputs": [],
   "source": [
    "import pandas as pd\n",
    "from tqdm import tqdm\n",
    "from time import sleep\n",
    "import wget\n",
    "import os\n",
    "import gc\n",
    "import gzip"
   ]
  },
  {
   "cell_type": "code",
   "execution_count": 18,
   "metadata": {},
   "outputs": [],
   "source": [
    "PATH = 'https://data.commoncrawl.org/'\n",
    "LANG = \"hu\"\n",
    "CC_LANG = \"hun\"\n",
    "INDEX_FILENAME = \"hungarian.csv\""
   ]
  },
  {
   "cell_type": "code",
   "execution_count": 19,
   "metadata": {},
   "outputs": [],
   "source": [
    "urls = pd.read_csv('cc-index-table.paths',header=None)"
   ]
  },
  {
   "cell_type": "code",
   "execution_count": 20,
   "metadata": {},
   "outputs": [],
   "source": [
    "def wget_file(path, current_file=None):\n",
    "    try:\n",
    "        if current_file is not None:\n",
    "            wget.download(path, out=current_file)\n",
    "        else:\n",
    "            wget.download(path)\n",
    "        return True\n",
    "    except:\n",
    "        print('Error downloading', path)\n",
    "        return False"
   ]
  },
  {
   "cell_type": "code",
   "execution_count": 21,
   "metadata": {},
   "outputs": [
    {
     "name": "stderr",
     "output_type": "stream",
     "text": [
      "  0%|          | 0/2 [00:00<?, ?it/s]"
     ]
    },
    {
     "name": "stdout",
     "output_type": "stream",
     "text": [
      "Downloaded cc-index/table/cc-main/warc/crawl=CC-MAIN-2022-49/subset=warc/part-00000-a0906200-461b-4808-9b94-6c53daf73f61.c000.gz.parquet\n"
     ]
    },
    {
     "name": "stderr",
     "output_type": "stream",
     "text": [
      " 50%|█████     | 1/2 [01:59<01:59, 119.03s/it]"
     ]
    },
    {
     "name": "stdout",
     "output_type": "stream",
     "text": [
      "Saved 77895 rows to file\n",
      "Removed current file\n",
      "Downloaded cc-index/table/cc-main/warc/crawl=CC-MAIN-2022-49/subset=warc/part-00001-a0906200-461b-4808-9b94-6c53daf73f61.c000.gz.parquet\n"
     ]
    },
    {
     "name": "stderr",
     "output_type": "stream",
     "text": [
      "100%|██████████| 2/2 [04:12<00:00, 126.03s/it]"
     ]
    },
    {
     "name": "stdout",
     "output_type": "stream",
     "text": [
      "Saved 77895 rows to file\n",
      "Removed current file\n"
     ]
    },
    {
     "name": "stderr",
     "output_type": "stream",
     "text": [
      "\n"
     ]
    }
   ],
   "source": [
    "for i in tqdm(range(2)):\n",
    "    current_file = 'current_index.gz.parquet'\n",
    "    filename = urls[0][i]\n",
    "    url = PATH + filename\n",
    "    if wget_file(url, current_file):\n",
    "        print(f\"Downloaded {filename}\")\n",
    "        df = []\n",
    "        gc.collect()\n",
    "        df = pd.read_parquet(current_file)  \n",
    "        df = df[df['content_languages'].str.startswith('hu', na=False)]\n",
    "        if (i == 0):\n",
    "            df.to_csv('hungarian.csv', header=True, index=False)\n",
    "        else:\n",
    "            df.to_csv('hungarian.csv', mode='a', header=False, index=False)\n",
    "        print(f\"Saved {len(df)} rows to file\")\n",
    "        os.remove(current_file)\n",
    "        print(\"Removed current file\")"
   ]
  },
  {
   "cell_type": "code",
   "execution_count": 22,
   "metadata": {},
   "outputs": [
    {
     "data": {
      "text/html": [
       "<div>\n",
       "<style scoped>\n",
       "    .dataframe tbody tr th:only-of-type {\n",
       "        vertical-align: middle;\n",
       "    }\n",
       "\n",
       "    .dataframe tbody tr th {\n",
       "        vertical-align: top;\n",
       "    }\n",
       "\n",
       "    .dataframe thead th {\n",
       "        text-align: right;\n",
       "    }\n",
       "</style>\n",
       "<table border=\"1\" class=\"dataframe\">\n",
       "  <thead>\n",
       "    <tr style=\"text-align: right;\">\n",
       "      <th></th>\n",
       "      <th>warc_filename</th>\n",
       "      <th>count</th>\n",
       "    </tr>\n",
       "  </thead>\n",
       "  <tbody>\n",
       "    <tr>\n",
       "      <th>27004</th>\n",
       "      <td>crawl-data/CC-MAIN-2022-49/segments/1669446710...</td>\n",
       "      <td>14</td>\n",
       "    </tr>\n",
       "    <tr>\n",
       "      <th>17787</th>\n",
       "      <td>crawl-data/CC-MAIN-2022-49/segments/1669446710...</td>\n",
       "      <td>14</td>\n",
       "    </tr>\n",
       "    <tr>\n",
       "      <th>27487</th>\n",
       "      <td>crawl-data/CC-MAIN-2022-49/segments/1669446710...</td>\n",
       "      <td>14</td>\n",
       "    </tr>\n",
       "    <tr>\n",
       "      <th>8759</th>\n",
       "      <td>crawl-data/CC-MAIN-2022-49/segments/1669446710...</td>\n",
       "      <td>14</td>\n",
       "    </tr>\n",
       "    <tr>\n",
       "      <th>9302</th>\n",
       "      <td>crawl-data/CC-MAIN-2022-49/segments/1669446710...</td>\n",
       "      <td>14</td>\n",
       "    </tr>\n",
       "  </tbody>\n",
       "</table>\n",
       "</div>"
      ],
      "text/plain": [
       "                                           warc_filename  count\n",
       "27004  crawl-data/CC-MAIN-2022-49/segments/1669446710...     14\n",
       "17787  crawl-data/CC-MAIN-2022-49/segments/1669446710...     14\n",
       "27487  crawl-data/CC-MAIN-2022-49/segments/1669446710...     14\n",
       "8759   crawl-data/CC-MAIN-2022-49/segments/1669446710...     14\n",
       "9302   crawl-data/CC-MAIN-2022-49/segments/1669446710...     14"
      ]
     },
     "execution_count": 22,
     "metadata": {},
     "output_type": "execute_result"
    }
   ],
   "source": [
    "hungarian_index = pd.read_csv('hungarian.csv', low_memory=False)\n",
    "hungarian_sorted = hungarian_index.groupby(['warc_filename'])['url_host_name'].count().reset_index(name='count').sort_values(['count'], ascending=False)\n",
    "hungarian_sorted.head(5)"
   ]
  },
  {
   "cell_type": "code",
   "execution_count": 40,
   "metadata": {},
   "outputs": [
    {
     "name": "stderr",
     "output_type": "stream",
     "text": [
      "  0%|          | 0/2 [00:00<?, ?it/s]"
     ]
    },
    {
     "name": "stdout",
     "output_type": "stream",
     "text": [
      "Downloading https://data.commoncrawl.org/crawl-data/CC-MAIN-2022-49/segments/1669446706285.92/wet/CC-MAIN-20221126080725-20221126110725-00000.warc.wet.gz\n",
      "Downloaded crawl-data/CC-MAIN-2022-49/segments/1669446706285.92/warc/CC-MAIN-20221126080725-20221126110725-00000.warc.gz\n",
      "Read 6977626 lines\n",
      "Found 15584 lines\n",
      "Saved in total: 15584 lines to files\n"
     ]
    },
    {
     "name": "stderr",
     "output_type": "stream",
     "text": [
      " 50%|█████     | 1/2 [00:05<00:05,  5.53s/it]"
     ]
    },
    {
     "name": "stdout",
     "output_type": "stream",
     "text": [
      "Removed current_wet_tmp.warc.wet.gz\n",
      "Downloading https://data.commoncrawl.org/crawl-data/CC-MAIN-2022-49/segments/1669446706285.92/wet/CC-MAIN-20221126080725-20221126110725-00001.warc.wet.gz\n",
      "Downloaded crawl-data/CC-MAIN-2022-49/segments/1669446706285.92/warc/CC-MAIN-20221126080725-20221126110725-00001.warc.gz\n",
      "Read 6977626 lines\n"
     ]
    },
    {
     "name": "stderr",
     "output_type": "stream",
     "text": [
      "100%|██████████| 2/2 [00:10<00:00,  5.25s/it]"
     ]
    },
    {
     "name": "stdout",
     "output_type": "stream",
     "text": [
      "Found 1484 lines\n",
      "Removed current_wet_tmp.warc.wet.gz\n"
     ]
    },
    {
     "name": "stderr",
     "output_type": "stream",
     "text": [
      "\n"
     ]
    }
   ],
   "source": [
    "def warc_2_wet(base, filename):\n",
    "    filename = filename.replace('/warc/', '/wet/')\n",
    "    filename = filename.replace('.warc.gz', '.warc.wet.gz')\n",
    "    return base + filename\n",
    "\n",
    "def get_hungarian_from_wet(filecontent, db, target_lang=CC_LANG):\n",
    "    idx = 0\n",
    "    contents = []\n",
    "    can_save = True\n",
    "    while idx < len(filecontent):\n",
    "        if filecontent[idx].startswith(\"WARC-Target-URI:\"):\n",
    "            current_url = filecontent[idx].split(\" \")[-1]\n",
    "            if current_url in db:\n",
    "                can_save = False\n",
    "            else:\n",
    "                can_save = True\n",
    "                db.add(current_url)\n",
    "        if can_save and filecontent[idx].startswith(\"WARC-Identified-Content-Language:\") and target_lang in filecontent[idx]:\n",
    "            # print(filecontent[idx+1])\n",
    "            if \"Content-Type: text/plain\" in filecontent[idx+1]:\n",
    "                # print(filecontent[idx])\n",
    "                idx = idx + 3\n",
    "                while not (filecontent[idx] == \"\" and filecontent[idx+1] == \"\" ) :\n",
    "                    if len(filecontent[idx]) > 60:\n",
    "                        contents.append(filecontent[idx])\n",
    "                    idx +=1\n",
    "        idx += 1\n",
    "\n",
    "    return contents, db\n",
    "\n",
    "temp_file_name = \"current_wet_tmp.warc.wet.gz\"\n",
    "text_buffer = []\n",
    "current_count = 0\n",
    "total_count = 0\n",
    "file_index = 0\n",
    "db = set()\n",
    "        \n",
    "for i in tqdm(range(2)):\n",
    "    filename = hungarian_sorted[\"warc_filename\"][i]\n",
    "    url = warc_2_wet(PATH, filename)\n",
    "    print(f\"Downloading {url}\")\n",
    "    if wget_file(url, temp_file_name):\n",
    "        print(f\"Downloaded {filename}\")\n",
    "        with gzip.open(temp_file_name, 'rb') as f:\n",
    "            current_file_content = f.read().decode('utf-8').splitlines()\n",
    "        print(f\"Read {len(current_file_content)} lines\")\n",
    "        hungarian_text, db = get_hungarian_from_wet(current_file_content, db,)\n",
    "        print(f\"Found {len(hungarian_text)} lines\")\n",
    "\n",
    "        text_buffer.extend(hungarian_text)\n",
    "        total_count += len(hungarian_text)\n",
    "        current_count += len(hungarian_text)\n",
    "        if current_count > 10000:\n",
    "            text_buffer = list(set(text_buffer))\n",
    "            # write to file\n",
    "            with open(f\"hungarian_text_{file_index}.txt\", \"w\", encoding=\"utf-8\") as f:\n",
    "                f.write(\"\\n\".join(text_buffer))\n",
    "            file_index += 1\n",
    "            current_count = 0\n",
    "            text_buffer = []\n",
    "            print(f\"Saved in total: {total_count} lines to files\")\n",
    "        \n",
    "        gc.collect()\n",
    "        # os.remove(temp_file_name)\n",
    "        print(f\"Removed {temp_file_name}\")"
   ]
  },
  {
   "cell_type": "code",
   "execution_count": 41,
   "metadata": {},
   "outputs": [
    {
     "data": {
      "text/plain": [
       "50872"
      ]
     },
     "execution_count": 41,
     "metadata": {},
     "output_type": "execute_result"
    }
   ],
   "source": [
    "len(hungarian_sorted)"
   ]
  }
 ],
 "metadata": {
  "kernelspec": {
   "display_name": "Python 3",
   "language": "python",
   "name": "python3"
  },
  "language_info": {
   "codemirror_mode": {
    "name": "ipython",
    "version": 3
   },
   "file_extension": ".py",
   "mimetype": "text/x-python",
   "name": "python",
   "nbconvert_exporter": "python",
   "pygments_lexer": "ipython3",
   "version": "3.10.6"
  },
  "orig_nbformat": 4,
  "vscode": {
   "interpreter": {
    "hash": "44e16c534368ac064e61b58658c807d154c8537c572d240df5d25e3eee4632f0"
   }
  }
 },
 "nbformat": 4,
 "nbformat_minor": 2
}
