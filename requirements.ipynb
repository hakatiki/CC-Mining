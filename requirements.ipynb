{
 "cells": [
  {
   "cell_type": "code",
   "execution_count": 1,
   "metadata": {},
   "outputs": [
    {
     "name": "stdout",
     "output_type": "stream",
     "text": [
      "Requirement already satisfied: wget in c:\\users\\takat\\appdata\\local\\programs\\python\\python310\\lib\\site-packages (3.2)\n"
     ]
    },
    {
     "name": "stderr",
     "output_type": "stream",
     "text": [
      "\n",
      "[notice] A new release of pip available: 22.3.1 -> 23.0.1\n",
      "[notice] To update, run: python.exe -m pip install --upgrade pip\n"
     ]
    }
   ],
   "source": [
    "!pip install wget"
   ]
  },
  {
   "cell_type": "code",
   "execution_count": 1,
   "metadata": {},
   "outputs": [
    {
     "name": "stdout",
     "output_type": "stream",
     "text": [
      "Requirement already satisfied: huggingface_hub in c:\\users\\takat\\appdata\\local\\programs\\python\\python310\\lib\\site-packages (0.10.0)\n",
      "Requirement already satisfied: typing-extensions>=3.7.4.3 in c:\\users\\takat\\appdata\\local\\programs\\python\\python310\\lib\\site-packages (from huggingface_hub) (4.3.0)\n",
      "Requirement already satisfied: requests in c:\\users\\takat\\appdata\\local\\programs\\python\\python310\\lib\\site-packages (from huggingface_hub) (2.28.1)\n",
      "Requirement already satisfied: packaging>=20.9 in c:\\users\\takat\\appdata\\local\\programs\\python\\python310\\lib\\site-packages (from huggingface_hub) (21.3)\n",
      "Requirement already satisfied: pyyaml>=5.1 in c:\\users\\takat\\appdata\\local\\programs\\python\\python310\\lib\\site-packages (from huggingface_hub) (6.0)\n",
      "Requirement already satisfied: tqdm in c:\\users\\takat\\appdata\\local\\programs\\python\\python310\\lib\\site-packages (from huggingface_hub) (4.64.1)\n",
      "Requirement already satisfied: filelock in c:\\users\\takat\\appdata\\local\\programs\\python\\python310\\lib\\site-packages (from huggingface_hub) (3.8.0)\n",
      "Requirement already satisfied: pyparsing!=3.0.5,>=2.0.2 in c:\\users\\takat\\appdata\\local\\programs\\python\\python310\\lib\\site-packages (from packaging>=20.9->huggingface_hub) (3.0.9)\n",
      "Requirement already satisfied: idna<4,>=2.5 in c:\\users\\takat\\appdata\\local\\programs\\python\\python310\\lib\\site-packages (from requests->huggingface_hub) (3.3)\n",
      "Requirement already satisfied: charset-normalizer<3,>=2 in c:\\users\\takat\\appdata\\local\\programs\\python\\python310\\lib\\site-packages (from requests->huggingface_hub) (2.1.1)\n",
      "Requirement already satisfied: certifi>=2017.4.17 in c:\\users\\takat\\appdata\\local\\programs\\python\\python310\\lib\\site-packages (from requests->huggingface_hub) (2022.6.15)\n",
      "Requirement already satisfied: urllib3<1.27,>=1.21.1 in c:\\users\\takat\\appdata\\local\\programs\\python\\python310\\lib\\site-packages (from requests->huggingface_hub) (1.26.12)\n",
      "Requirement already satisfied: colorama in c:\\users\\takat\\appdata\\local\\programs\\python\\python310\\lib\\site-packages (from tqdm->huggingface_hub) (0.4.5)\n"
     ]
    },
    {
     "name": "stderr",
     "output_type": "stream",
     "text": [
      "\n",
      "[notice] A new release of pip available: 22.3.1 -> 23.0.1\n",
      "[notice] To update, run: python.exe -m pip install --upgrade pip\n"
     ]
    }
   ],
   "source": [
    "!pip install huggingface_hub"
   ]
  },
  {
   "cell_type": "code",
   "execution_count": 2,
   "metadata": {},
   "outputs": [
    {
     "name": "stdout",
     "output_type": "stream",
     "text": [
      "Collecting ipywidgets"
     ]
    },
    {
     "name": "stderr",
     "output_type": "stream",
     "text": [
      "\n",
      "[notice] A new release of pip available: 22.3.1 -> 23.0.1\n",
      "[notice] To update, run: python.exe -m pip install --upgrade pip\n"
     ]
    },
    {
     "name": "stdout",
     "output_type": "stream",
     "text": [
      "\n",
      "  Downloading ipywidgets-8.0.4-py3-none-any.whl (137 kB)\n",
      "     ------------------------------------ 137.8/137.8 kB 678.3 kB/s eta 0:00:00\n",
      "Requirement already satisfied: ipython>=6.1.0 in c:\\users\\takat\\appdata\\local\\programs\\python\\python310\\lib\\site-packages (from ipywidgets) (8.5.0)\n",
      "Collecting widgetsnbextension~=4.0\n",
      "  Downloading widgetsnbextension-4.0.5-py3-none-any.whl (2.0 MB)\n",
      "     ---------------------------------------- 2.0/2.0 MB 896.3 kB/s eta 0:00:00\n",
      "Collecting jupyterlab-widgets~=3.0\n",
      "  Downloading jupyterlab_widgets-3.0.5-py3-none-any.whl (384 kB)\n",
      "     ------------------------------------ 384.3/384.3 kB 886.5 kB/s eta 0:00:00\n",
      "Requirement already satisfied: traitlets>=4.3.1 in c:\\users\\takat\\appdata\\local\\programs\\python\\python310\\lib\\site-packages (from ipywidgets) (5.3.0)\n",
      "Requirement already satisfied: ipykernel>=4.5.1 in c:\\users\\takat\\appdata\\local\\programs\\python\\python310\\lib\\site-packages (from ipywidgets) (6.15.2)\n",
      "Requirement already satisfied: debugpy>=1.0 in c:\\users\\takat\\appdata\\local\\programs\\python\\python310\\lib\\site-packages (from ipykernel>=4.5.1->ipywidgets) (1.6.3)\n",
      "Requirement already satisfied: jupyter-client>=6.1.12 in c:\\users\\takat\\appdata\\local\\programs\\python\\python310\\lib\\site-packages (from ipykernel>=4.5.1->ipywidgets) (7.3.5)\n",
      "Requirement already satisfied: tornado>=6.1 in c:\\users\\takat\\appdata\\local\\programs\\python\\python310\\lib\\site-packages (from ipykernel>=4.5.1->ipywidgets) (6.2)\n",
      "Requirement already satisfied: matplotlib-inline>=0.1 in c:\\users\\takat\\appdata\\local\\programs\\python\\python310\\lib\\site-packages (from ipykernel>=4.5.1->ipywidgets) (0.1.6)\n",
      "Requirement already satisfied: psutil in c:\\users\\takat\\appdata\\local\\programs\\python\\python310\\lib\\site-packages (from ipykernel>=4.5.1->ipywidgets) (5.9.2)\n",
      "Requirement already satisfied: pyzmq>=17 in c:\\users\\takat\\appdata\\local\\programs\\python\\python310\\lib\\site-packages (from ipykernel>=4.5.1->ipywidgets) (23.2.1)\n",
      "Requirement already satisfied: packaging in c:\\users\\takat\\appdata\\local\\programs\\python\\python310\\lib\\site-packages (from ipykernel>=4.5.1->ipywidgets) (21.3)\n",
      "Requirement already satisfied: nest-asyncio in c:\\users\\takat\\appdata\\local\\programs\\python\\python310\\lib\\site-packages (from ipykernel>=4.5.1->ipywidgets) (1.5.5)\n",
      "Requirement already satisfied: pickleshare in c:\\users\\takat\\appdata\\local\\programs\\python\\python310\\lib\\site-packages (from ipython>=6.1.0->ipywidgets) (0.7.5)\n",
      "Requirement already satisfied: colorama in c:\\users\\takat\\appdata\\local\\programs\\python\\python310\\lib\\site-packages (from ipython>=6.1.0->ipywidgets) (0.4.5)\n",
      "Requirement already satisfied: prompt-toolkit<3.1.0,>3.0.1 in c:\\users\\takat\\appdata\\local\\programs\\python\\python310\\lib\\site-packages (from ipython>=6.1.0->ipywidgets) (3.0.31)\n",
      "Requirement already satisfied: jedi>=0.16 in c:\\users\\takat\\appdata\\local\\programs\\python\\python310\\lib\\site-packages (from ipython>=6.1.0->ipywidgets) (0.18.1)\n",
      "Requirement already satisfied: pygments>=2.4.0 in c:\\users\\takat\\appdata\\local\\programs\\python\\python310\\lib\\site-packages (from ipython>=6.1.0->ipywidgets) (2.13.0)\n",
      "Requirement already satisfied: backcall in c:\\users\\takat\\appdata\\local\\programs\\python\\python310\\lib\\site-packages (from ipython>=6.1.0->ipywidgets) (0.2.0)\n",
      "Requirement already satisfied: decorator in c:\\users\\takat\\appdata\\local\\programs\\python\\python310\\lib\\site-packages (from ipython>=6.1.0->ipywidgets) (5.1.1)\n",
      "Requirement already satisfied: stack-data in c:\\users\\takat\\appdata\\local\\programs\\python\\python310\\lib\\site-packages (from ipython>=6.1.0->ipywidgets) (0.5.0)\n",
      "Requirement already satisfied: parso<0.9.0,>=0.8.0 in c:\\users\\takat\\appdata\\local\\programs\\python\\python310\\lib\\site-packages (from jedi>=0.16->ipython>=6.1.0->ipywidgets) (0.8.3)\n",
      "Requirement already satisfied: python-dateutil>=2.8.2 in c:\\users\\takat\\appdata\\local\\programs\\python\\python310\\lib\\site-packages (from jupyter-client>=6.1.12->ipykernel>=4.5.1->ipywidgets) (2.8.2)\n",
      "Requirement already satisfied: entrypoints in c:\\users\\takat\\appdata\\local\\programs\\python\\python310\\lib\\site-packages (from jupyter-client>=6.1.12->ipykernel>=4.5.1->ipywidgets) (0.4)\n",
      "Requirement already satisfied: jupyter-core>=4.9.2 in c:\\users\\takat\\appdata\\local\\programs\\python\\python310\\lib\\site-packages (from jupyter-client>=6.1.12->ipykernel>=4.5.1->ipywidgets) (4.11.1)\n",
      "Requirement already satisfied: wcwidth in c:\\users\\takat\\appdata\\local\\programs\\python\\python310\\lib\\site-packages (from prompt-toolkit<3.1.0,>3.0.1->ipython>=6.1.0->ipywidgets) (0.2.5)\n",
      "Requirement already satisfied: pyparsing!=3.0.5,>=2.0.2 in c:\\users\\takat\\appdata\\local\\programs\\python\\python310\\lib\\site-packages (from packaging->ipykernel>=4.5.1->ipywidgets) (3.0.9)\n",
      "Requirement already satisfied: pure-eval in c:\\users\\takat\\appdata\\local\\programs\\python\\python310\\lib\\site-packages (from stack-data->ipython>=6.1.0->ipywidgets) (0.2.2)\n",
      "Requirement already satisfied: asttokens in c:\\users\\takat\\appdata\\local\\programs\\python\\python310\\lib\\site-packages (from stack-data->ipython>=6.1.0->ipywidgets) (2.0.8)\n",
      "Requirement already satisfied: executing in c:\\users\\takat\\appdata\\local\\programs\\python\\python310\\lib\\site-packages (from stack-data->ipython>=6.1.0->ipywidgets) (1.0.0)\n",
      "Requirement already satisfied: pywin32>=1.0 in c:\\users\\takat\\appdata\\local\\programs\\python\\python310\\lib\\site-packages (from jupyter-core>=4.9.2->jupyter-client>=6.1.12->ipykernel>=4.5.1->ipywidgets) (304)\n",
      "Requirement already satisfied: six>=1.5 in c:\\users\\takat\\appdata\\local\\programs\\python\\python310\\lib\\site-packages (from python-dateutil>=2.8.2->jupyter-client>=6.1.12->ipykernel>=4.5.1->ipywidgets) (1.16.0)\n",
      "Installing collected packages: widgetsnbextension, jupyterlab-widgets, ipywidgets\n",
      "Successfully installed ipywidgets-8.0.4 jupyterlab-widgets-3.0.5 widgetsnbextension-4.0.5\n"
     ]
    }
   ],
   "source": [
    "!pip install ipywidgets"
   ]
  },
  {
   "cell_type": "code",
   "execution_count": 1,
   "metadata": {},
   "outputs": [
    {
     "name": "stdout",
     "output_type": "stream",
     "text": [
      "Collecting levenshtein\n",
      "  Downloading Levenshtein-0.20.9-cp310-cp310-win_amd64.whl (101 kB)\n",
      "     -------------------------------------- 101.2/101.2 kB 1.5 MB/s eta 0:00:00\n",
      "Collecting rapidfuzz<3.0.0,>=2.3.0\n",
      "  Downloading rapidfuzz-2.13.7-cp310-cp310-win_amd64.whl (1.0 MB)\n",
      "     ---------------------------------------- 1.0/1.0 MB 1.8 MB/s eta 0:00:00\n",
      "Installing collected packages: rapidfuzz, levenshtein\n",
      "Successfully installed levenshtein-0.20.9 rapidfuzz-2.13.7\n"
     ]
    },
    {
     "name": "stderr",
     "output_type": "stream",
     "text": [
      "\n",
      "[notice] A new release of pip available: 22.3.1 -> 23.0.1\n",
      "[notice] To update, run: python.exe -m pip install --upgrade pip\n"
     ]
    }
   ],
   "source": [
    "!pip install levenshtein"
   ]
  },
  {
   "cell_type": "code",
   "execution_count": 5,
   "metadata": {},
   "outputs": [
    {
     "name": "stdout",
     "output_type": "stream",
     "text": [
      "Collecting python-qbittorrent\n",
      "  Downloading python_qbittorrent-0.4.3-py3-none-any.whl (9.8 kB)\n",
      "Requirement already satisfied: requests in c:\\users\\takat\\appdata\\local\\programs\\python\\python310\\lib\\site-packages (from python-qbittorrent) (2.28.1)\n",
      "Requirement already satisfied: idna<4,>=2.5 in c:\\users\\takat\\appdata\\local\\programs\\python\\python310\\lib\\site-packages (from requests->python-qbittorrent) (3.3)\n",
      "Requirement already satisfied: charset-normalizer<3,>=2 in c:\\users\\takat\\appdata\\local\\programs\\python\\python310\\lib\\site-packages (from requests->python-qbittorrent) (2.1.1)\n",
      "Requirement already satisfied: certifi>=2017.4.17 in c:\\users\\takat\\appdata\\local\\programs\\python\\python310\\lib\\site-packages (from requests->python-qbittorrent) (2022.6.15)\n",
      "Requirement already satisfied: urllib3<1.27,>=1.21.1 in c:\\users\\takat\\appdata\\local\\programs\\python\\python310\\lib\\site-packages (from requests->python-qbittorrent) (1.26.12)\n",
      "Installing collected packages: python-qbittorrent\n",
      "Successfully installed python-qbittorrent-0.4.3\n"
     ]
    },
    {
     "name": "stderr",
     "output_type": "stream",
     "text": [
      "\n",
      "[notice] A new release of pip available: 22.3.1 -> 23.0.1\n",
      "[notice] To update, run: python.exe -m pip install --upgrade pip\n"
     ]
    }
   ],
   "source": [
    "!pip install python-qbittorrent"
   ]
  },
  {
   "cell_type": "code",
   "execution_count": 6,
   "metadata": {},
   "outputs": [
    {
     "name": "stdout",
     "output_type": "stream",
     "text": [
      "Collecting PyPDF2\n",
      "  Downloading pypdf2-3.0.1-py3-none-any.whl (232 kB)\n",
      "     ------------------------------------ 232.6/232.6 kB 791.2 kB/s eta 0:00:00\n",
      "Installing collected packages: PyPDF2\n",
      "Successfully installed PyPDF2-3.0.1\n"
     ]
    },
    {
     "name": "stderr",
     "output_type": "stream",
     "text": [
      "\n",
      "[notice] A new release of pip available: 22.3.1 -> 23.0.1\n",
      "[notice] To update, run: python.exe -m pip install --upgrade pip\n"
     ]
    }
   ],
   "source": [
    "!pip install PyPDF2"
   ]
  },
  {
   "cell_type": "code",
   "execution_count": 7,
   "metadata": {},
   "outputs": [
    {
     "name": "stdout",
     "output_type": "stream",
     "text": [
      "^C\n"
     ]
    },
    {
     "name": "stdout",
     "output_type": "stream",
     "text": [
      "Collecting fitz\n",
      "  Downloading fitz-0.0.1.dev2-py2.py3-none-any.whl (20 kB)\n",
      "Collecting pyxnat\n",
      "  Downloading pyxnat-1.5-py3-none-any.whl (95 kB)\n",
      "     -------------------------------------- 95.3/95.3 kB 607.7 kB/s eta 0:00:00\n",
      "Collecting configobj\n",
      "  Downloading configobj-5.0.8-py2.py3-none-any.whl (36 kB)\n",
      "Collecting nibabel\n",
      "  Downloading nibabel-5.0.1-py3-none-any.whl (3.3 MB)\n",
      "     ---------------------------------------- 3.3/3.3 MB 1.6 MB/s eta 0:00:00\n",
      "Requirement already satisfied: pandas in c:\\users\\takat\\appdata\\local\\programs\\python\\python310\\lib\\site-packages (from fitz) (1.4.4)\n",
      "Collecting configparser\n",
      "  Downloading configparser-5.3.0-py3-none-any.whl (19 kB)\n",
      "Requirement already satisfied: numpy in c:\\users\\takat\\appdata\\local\\programs\\python\\python310\\lib\\site-packages (from fitz) (1.23.2)\n",
      "Collecting httplib2\n",
      "  Downloading httplib2-0.21.0-py3-none-any.whl (96 kB)\n",
      "     ---------------------------------------- 96.8/96.8 kB 1.4 MB/s eta 0:00:00\n",
      "Requirement already satisfied: scipy in c:\\users\\takat\\appdata\\local\\programs\\python\\python310\\lib\\site-packages (from fitz) (1.9.1)\n",
      "Collecting nipype\n",
      "  Downloading nipype-1.8.5-py3-none-any.whl (3.2 MB)\n",
      "     ---------------------------------------- 3.2/3.2 MB 1.8 MB/s eta 0:00:00\n",
      "Requirement already satisfied: six in c:\\users\\takat\\appdata\\local\\programs\\python\\python310\\lib\\site-packages (from configobj->fitz) (1.16.0)\n",
      "Requirement already satisfied: pyparsing!=3.0.0,!=3.0.1,!=3.0.2,!=3.0.3,<4,>=2.4.2 in c:\\users\\takat\\appdata\\local\\programs\\python\\python310\\lib\\site-packages (from httplib2->fitz) (3.0.9)\n",
      "Requirement already satisfied: setuptools in c:\\users\\takat\\appdata\\local\\programs\\python\\python310\\lib\\site-packages (from nibabel->fitz) (63.2.0)\n",
      "Requirement already satisfied: packaging>=17 in c:\\users\\takat\\appdata\\local\\programs\\python\\python310\\lib\\site-packages (from nibabel->fitz) (21.3)\n",
      "Collecting etelemetry>=0.2.0\n",
      "  Downloading etelemetry-0.3.0-py3-none-any.whl (6.3 kB)\n",
      "Collecting looseversion\n",
      "  Downloading looseversion-1.1.2-py3-none-any.whl (8.1 kB)\n",
      "Collecting traits!=5.0,<6.4,>=4.6\n",
      "  Downloading traits-6.3.2-cp310-cp310-win_amd64.whl (5.0 MB)\n",
      "     ---------------------------------------- 5.0/5.0 MB 1.6 MB/s eta 0:00:00\n",
      "Requirement already satisfied: click>=6.6.0 in c:\\users\\takat\\appdata\\local\\programs\\python\\python310\\lib\\site-packages (from nipype->fitz) (8.1.3)\n",
      "Collecting rdflib>=5.0.0\n",
      "  Downloading rdflib-6.2.0-py3-none-any.whl (500 kB)\n",
      "     -------------------------------------- 500.3/500.3 kB 1.6 MB/s eta 0:00:00\n",
      "Collecting simplejson>=3.8.0\n",
      "  Downloading simplejson-3.18.4-cp310-cp310-win_amd64.whl (74 kB)\n",
      "     ---------------------------------------- 74.9/74.9 kB 1.4 MB/s eta 0:00:00\n",
      "Requirement already satisfied: filelock>=3.0.0 in c:\\users\\takat\\appdata\\local\\programs\\python\\python310\\lib\\site-packages (from nipype->fitz) (3.8.0)\n",
      "Collecting pydot>=1.2.3\n",
      "  Downloading pydot-1.4.2-py2.py3-none-any.whl (21 kB)\n",
      "Collecting networkx>=2.0\n",
      "  Downloading networkx-3.0-py3-none-any.whl (2.0 MB)\n",
      "     ---------------------------------------- 2.0/2.0 MB 1.3 MB/s eta 0:00:00\n",
      "Collecting prov>=1.5.2\n",
      "  Downloading prov-2.0.0-py3-none-any.whl (421 kB)\n",
      "     -------------------------------------- 421.5/421.5 kB 2.0 MB/s eta 0:00:00\n",
      "Requirement already satisfied: python-dateutil>=2.2 in c:\\users\\takat\\appdata\\local\\programs\\python\\python310\\lib\\site-packages (from nipype->fitz) (2.8.2)\n",
      "Requirement already satisfied: pytz>=2020.1 in c:\\users\\takat\\appdata\\local\\programs\\python\\python310\\lib\\site-packages (from pandas->fitz) (2022.2.1)\n",
      "Collecting future>=0.16\n",
      "  Downloading future-0.18.3.tar.gz (840 kB)\n",
      "     -------------------------------------- 840.9/840.9 kB 1.1 MB/s eta 0:00:00\n",
      "  Preparing metadata (setup.py): started\n",
      "  Preparing metadata (setup.py): finished with status 'done'\n",
      "Collecting pathlib>=1.0\n",
      "  Downloading pathlib-1.0.1-py3-none-any.whl (14 kB)\n",
      "Requirement already satisfied: requests>=2.20 in c:\\users\\takat\\appdata\\local\\programs\\python\\python310\\lib\\site-packages (from pyxnat->fitz) (2.28.1)\n",
      "Requirement already satisfied: lxml>=4.3 in c:\\users\\takat\\appdata\\local\\programs\\python\\python310\\lib\\site-packages (from pyxnat->fitz) (4.9.1)\n",
      "Requirement already satisfied: colorama in c:\\users\\takat\\appdata\\local\\programs\\python\\python310\\lib\\site-packages (from click>=6.6.0->nipype->fitz) (0.4.5)\n",
      "Collecting ci-info>=0.2\n",
      "  Downloading ci_info-0.3.0-py3-none-any.whl (7.8 kB)\n",
      "Collecting isodate\n",
      "  Downloading isodate-0.6.1-py2.py3-none-any.whl (41 kB)\n",
      "     -------------------------------------- 41.7/41.7 kB 669.8 kB/s eta 0:00:00\n",
      "Requirement already satisfied: certifi>=2017.4.17 in c:\\users\\takat\\appdata\\local\\programs\\python\\python310\\lib\\site-packages (from requests>=2.20->pyxnat->fitz) (2022.6.15)\n",
      "Requirement already satisfied: urllib3<1.27,>=1.21.1 in c:\\users\\takat\\appdata\\local\\programs\\python\\python310\\lib\\site-packages (from requests>=2.20->pyxnat->fitz) (1.26.12)\n",
      "Requirement already satisfied: idna<4,>=2.5 in c:\\users\\takat\\appdata\\local\\programs\\python\\python310\\lib\\site-packages (from requests>=2.20->pyxnat->fitz) (3.3)\n",
      "Requirement already satisfied: charset-normalizer<3,>=2 in c:\\users\\takat\\appdata\\local\\programs\\python\\python310\\lib\\site-packages (from requests>=2.20->pyxnat->fitz) (2.1.1)\n",
      "Building wheels for collected packages: future\n",
      "  Building wheel for future (setup.py): started\n",
      "  Building wheel for future (setup.py): finished with status 'done'\n",
      "  Created wheel for future: filename=future-0.18.3-py3-none-any.whl size=492025 sha256=c6ee70c4568f4098b8b81cfd80e4f659b639c6db52944092353b24ff580e1b5d\n",
      "  Stored in directory: c:\\users\\takat\\appdata\\local\\pip\\cache\\wheels\\69\\c0\\ce\\f2a18105d619f21239a048bcc58e98d8ce47ac824e0531f1a0\n",
      "Successfully built future\n",
      "Installing collected packages: pathlib, traits, simplejson, pydot, networkx, looseversion, isodate, httplib2, future, configparser, configobj, ci-info, rdflib, pyxnat, nibabel, etelemetry, prov, nipype, fitz\n",
      "Successfully installed ci-info-0.3.0 configobj-5.0.8 configparser-5.3.0 etelemetry-0.3.0 fitz-0.0.1.dev2 future-0.18.3 httplib2-0.21.0 isodate-0.6.1 looseversion-1.1.2 networkx-3.0 nibabel-5.0.1 nipype-1.8.5 pathlib-1.0.1 prov-2.0.0 pydot-1.4.2 pyxnat-1.5 rdflib-6.2.0 simplejson-3.18.4 traits-6.3.2\n"
     ]
    },
    {
     "name": "stderr",
     "output_type": "stream",
     "text": [
      "\n",
      "[notice] A new release of pip available: 22.3.1 -> 23.0.1\n",
      "[notice] To update, run: python.exe -m pip install --upgrade pip\n"
     ]
    }
   ],
   "source": [
    "!pip install fitz"
   ]
  },
  {
   "cell_type": "code",
   "execution_count": 8,
   "metadata": {},
   "outputs": [
    {
     "name": "stdout",
     "output_type": "stream",
     "text": [
      "Collecting frontend"
     ]
    },
    {
     "name": "stderr",
     "output_type": "stream",
     "text": [
      "\n",
      "[notice] A new release of pip available: 22.3.1 -> 23.0.1\n",
      "[notice] To update, run: python.exe -m pip install --upgrade pip\n"
     ]
    },
    {
     "name": "stdout",
     "output_type": "stream",
     "text": [
      "\n",
      "  Downloading frontend-0.0.3-py3-none-any.whl (32 kB)\n",
      "Collecting uvicorn>=0.7.1\n",
      "  Downloading uvicorn-0.21.0-py3-none-any.whl (57 kB)\n",
      "     -------------------------------------- 57.8/57.8 kB 436.4 kB/s eta 0:00:00\n",
      "Collecting aiofiles\n",
      "  Downloading aiofiles-23.1.0-py3-none-any.whl (14 kB)\n",
      "Collecting starlette>=0.12.0\n",
      "  Downloading starlette-0.26.1-py3-none-any.whl (66 kB)\n",
      "     ---------------------------------------- 66.9/66.9 kB 1.2 MB/s eta 0:00:00\n",
      "Collecting itsdangerous>=1.1.0\n",
      "  Downloading itsdangerous-2.1.2-py3-none-any.whl (15 kB)\n",
      "Collecting anyio<5,>=3.4.0\n",
      "  Downloading anyio-3.6.2-py3-none-any.whl (80 kB)\n",
      "     -------------------------------------- 80.6/80.6 kB 748.7 kB/s eta 0:00:00\n",
      "Requirement already satisfied: click>=7.0 in c:\\users\\takat\\appdata\\local\\programs\\python\\python310\\lib\\site-packages (from uvicorn>=0.7.1->frontend) (8.1.3)\n",
      "Collecting h11>=0.8\n",
      "  Downloading h11-0.14.0-py3-none-any.whl (58 kB)\n",
      "     -------------------------------------- 58.3/58.3 kB 615.6 kB/s eta 0:00:00\n",
      "Requirement already satisfied: idna>=2.8 in c:\\users\\takat\\appdata\\local\\programs\\python\\python310\\lib\\site-packages (from anyio<5,>=3.4.0->starlette>=0.12.0->frontend) (3.3)\n",
      "Collecting sniffio>=1.1\n",
      "  Downloading sniffio-1.3.0-py3-none-any.whl (10 kB)\n",
      "Requirement already satisfied: colorama in c:\\users\\takat\\appdata\\local\\programs\\python\\python310\\lib\\site-packages (from click>=7.0->uvicorn>=0.7.1->frontend) (0.4.5)\n",
      "Installing collected packages: sniffio, itsdangerous, h11, aiofiles, uvicorn, anyio, starlette, frontend\n",
      "Successfully installed aiofiles-23.1.0 anyio-3.6.2 frontend-0.0.3 h11-0.14.0 itsdangerous-2.1.2 sniffio-1.3.0 starlette-0.26.1 uvicorn-0.21.0\n"
     ]
    }
   ],
   "source": [
    "!pip install frontend"
   ]
  },
  {
   "cell_type": "code",
   "execution_count": null,
   "metadata": {},
   "outputs": [],
   "source": []
  }
 ],
 "metadata": {
  "kernelspec": {
   "display_name": "Python 3",
   "language": "python",
   "name": "python3"
  },
  "language_info": {
   "codemirror_mode": {
    "name": "ipython",
    "version": 3
   },
   "file_extension": ".py",
   "mimetype": "text/x-python",
   "name": "python",
   "nbconvert_exporter": "python",
   "pygments_lexer": "ipython3",
   "version": "3.10.6"
  },
  "orig_nbformat": 4,
  "vscode": {
   "interpreter": {
    "hash": "44e16c534368ac064e61b58658c807d154c8537c572d240df5d25e3eee4632f0"
   }
  }
 },
 "nbformat": 4,
 "nbformat_minor": 2
}
