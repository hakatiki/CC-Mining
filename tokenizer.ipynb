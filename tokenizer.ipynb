{
 "cells": [
  {
   "cell_type": "code",
   "execution_count": 1,
   "metadata": {},
   "outputs": [],
   "source": [
    "from transformers import AutoTokenizer\n",
    "from datasets import load_dataset\n",
    "from tqdm import tqdm\n",
    "import numpy as np\n",
    "import os\n",
    "import seaborn as sns\n",
    "import pandas as pd\n",
    "import matplotlib.pyplot as plt"
   ]
  },
  {
   "cell_type": "code",
   "execution_count": 2,
   "metadata": {},
   "outputs": [
    {
     "name": "stdout",
     "output_type": "stream",
     "text": [
      "['Font', 'os', 'Ġh', 'ÃŃ', 'r', 'Ġvolt', 'Ġn', 'Ã©', 'h', 'Ã¡', 'ny', 'ĠÃ©', 'v', 'vel', 'Ġe', 'zel', 'Å', 'ĳ', 'tt', 'Ġa', 'Ġk', 'Ã¼', 'l', 'Ã¶', 'nb', 'Ã¶', 'z', 'Å', 'ĳ', ',', 'Ġl', 'ak', 'Ã¡', 'sv', 'Ã¡s', 'Ã¡', 'rl', 'Ã¡', 'st', ',', 'Ġfel', 'Ãº', 'j', 'ÃŃ', 't', 'Ã¡', 'st', 'Ġvag', 'y', 'Ġb', 'Å', 'ĳ', 'v', 'ÃŃ', 't', 'Ã©', 'st', 'Ġse', 'g', 'ÃŃ', 't', 'Å', 'ĳ', 'Ġc', 'sal', 'Ã¡', 'dt', 'Ã¡', 'm', 'og', 'at', 'Ã¡s', 'ok', 'Ġbe', 'j', 'el', 'ent', 'Ã©', 'se', '.']\n"
     ]
    }
   ],
   "source": [
    "# Load the tokenizer\n",
    "tokenizer = AutoTokenizer.from_pretrained(\"gpt2\")\n",
    "text = \"Fontos hír volt néhány évvel ezelőtt a különböző, lakásvásárlást, felújítást vagy bővítést segítő családtámogatások bejelentése.\"\n",
    "print(tokenizer(text).tokens())"
   ]
  },
  {
   "cell_type": "code",
   "execution_count": 3,
   "metadata": {},
   "outputs": [
    {
     "name": "stdout",
     "output_type": "stream",
     "text": [
      "Size of gpt2 vocabulary: 50257\n"
     ]
    }
   ],
   "source": [
    "print(f\"Size of gpt2 vocabulary: {len(tokenizer)}\")"
   ]
  },
  {
   "cell_type": "code",
   "execution_count": 4,
   "metadata": {},
   "outputs": [
    {
     "name": "stdout",
     "output_type": "stream",
     "text": [
      "ÃÂÃÂÃÂÃÂÃÂÃÂÃÂÃÂÃÂÃÂÃÂÃÂÃÂÃÂÃÂÃÂÃÂÃÂÃÂÃÂÃÂÃÂÃÂÃÂÃÂÃÂÃÂÃÂÃÂÃÂÃÂÃÂ\n",
      " =================================================================\n",
      " ----------------------------------------------------------------\n",
      "................................................................\n",
      "================================================================\n",
      "----------------------------------------------------------------\n",
      "ÃÂÃÂÃÂÃÂÃÂÃÂÃÂÃÂÃÂÃÂÃÂÃÂÃÂÃÂÃÂÃÂ\n",
      "________________________________________________________________\n",
      "--------------------------------------------------------\n",
      "————————————————\n"
     ]
    }
   ],
   "source": [
    "tokens = sorted(tokenizer.vocab.items(), key=lambda x: len(x[0]), reverse=True)\n",
    "longests = [tokenizer.convert_tokens_to_string([t]) for t, _ in tokens[:10]]\n",
    "for i in longests:\n",
    "    print(i)"
   ]
  },
  {
   "cell_type": "code",
   "execution_count": 5,
   "metadata": {},
   "outputs": [
    {
     "name": "stdout",
     "output_type": "stream",
     "text": [
      "['<|endoftext|>', ' gazed', ' informants', ' Collider', ' regress', 'ominated', ' amplification', 'Compar', '….\"', ' (/']\n"
     ]
    }
   ],
   "source": [
    "tokens = sorted(tokenizer.vocab.items(), key=lambda x: x[1], reverse=True)\n",
    "print([f\"{tokenizer.convert_tokens_to_string([t])}\" for t, _ in tokens[:10]])"
   ]
  },
  {
   "cell_type": "code",
   "execution_count": 6,
   "metadata": {},
   "outputs": [],
   "source": [
    "length = 3992000\n",
    "dataset_name = \"data/Guttenberg/\"\n",
    "files = os.listdir(dataset_name)\n",
    "files = [dataset_name + i for i in files if \".txt\" in i]"
   ]
  },
  {
   "cell_type": "code",
   "execution_count": 7,
   "metadata": {},
   "outputs": [
    {
     "data": {
      "application/vnd.jupyter.widget-view+json": {
       "model_id": "2f610a9e1b184a41af3c6e614b3fa8cf",
       "version_major": 2,
       "version_minor": 0
      },
      "text/plain": [
       "Resolving data files:   0%|          | 0/4285 [00:00<?, ?it/s]"
      ]
     },
     "metadata": {},
     "output_type": "display_data"
    },
    {
     "name": "stderr",
     "output_type": "stream",
     "text": [
      "Using custom data configuration default-68fc5f74f150e42e\n"
     ]
    }
   ],
   "source": [
    "dataset = load_dataset(\"text\",  split=\"train\", streaming=True, data_files=files, )"
   ]
  },
  {
   "cell_type": "code",
   "execution_count": 8,
   "metadata": {},
   "outputs": [
    {
     "data": {
      "text/plain": [
       "<datasets.iterable_dataset.IterableDataset at 0x1ad2a8e8a90>"
      ]
     },
     "execution_count": 8,
     "metadata": {},
     "output_type": "execute_result"
    }
   ],
   "source": [
    "dataset"
   ]
  },
  {
   "cell_type": "code",
   "execution_count": 9,
   "metadata": {},
   "outputs": [],
   "source": [
    "iter_dataset = iter(dataset)\n",
    "\n",
    "def batch_iterator(batch_size = 10):\n",
    "    for i in tqdm(range(0, length, batch_size)):\n",
    "        yield [next(iter_dataset)[\"text\"] for _ in range(batch_size)]\n"
   ]
  },
  {
   "cell_type": "code",
   "execution_count": 10,
   "metadata": {},
   "outputs": [],
   "source": [
    "texts = [next(iter_dataset)[\"text\"][:1024] for _ in range(10)]"
   ]
  },
  {
   "cell_type": "code",
   "execution_count": 15,
   "metadata": {},
   "outputs": [
    {
     "name": "stderr",
     "output_type": "stream",
     "text": [
      "  0%|          | 0/47391 [00:00<?, ?it/s]Token indices sequence length is longer than the specified maximum sequence length for this model (1864 > 1024). Running this sequence through the model will result in indexing errors\n",
      "100%|██████████| 47391/47391 [01:15<00:00, 626.97it/s]"
     ]
    },
    {
     "name": "stdout",
     "output_type": "stream",
     "text": [
      "Characters counted: 132233143\n",
      "Old tokenizer used 66440077 number of tokens\n",
      "1.9902617361506068 chars per token\n"
     ]
    },
    {
     "name": "stderr",
     "output_type": "stream",
     "text": [
      "\n"
     ]
    }
   ],
   "source": [
    "iter_dataset = iter(dataset)\n",
    "count = 0\n",
    "old_tokenizer_count = 0\n",
    "batch_size = 64\n",
    "for i in tqdm(range(0, 3033000, batch_size)):\n",
    "    texts = [next(iter_dataset)[\"text\"] for _ in range(batch_size)]\n",
    "    count += np.sum([len(text) for text in texts])\n",
    "    old_tokenizer_count += np.sum([len(i) for i in tokenizer(texts)[\"input_ids\"]])\n",
    "print(f\"Characters counted: {count}\")\n",
    "print(f\"Old tokenizer used {old_tokenizer_count} number of tokens\")\n",
    "print(f\"{count/old_tokenizer_count} chars per token\")"
   ]
  },
  {
   "cell_type": "code",
   "execution_count": 16,
   "metadata": {},
   "outputs": [
    {
     "name": "stderr",
     "output_type": "stream",
     "text": [
      "100%|██████████| 399200/399200 [01:59<00:00, 3347.07it/s]\n"
     ]
    }
   ],
   "source": [
    "iter_dataset = iter(dataset)\n",
    "new_tokenizer = tokenizer.train_new_from_iterator(batch_iterator(), vocab_size=25600, )"
   ]
  },
  {
   "cell_type": "code",
   "execution_count": 17,
   "metadata": {},
   "outputs": [
    {
     "data": {
      "text/plain": [
       "('./models/guttenberg/tokenizer_config.json',\n",
       " './models/guttenberg/special_tokens_map.json',\n",
       " './models/guttenberg/vocab.json',\n",
       " './models/guttenberg/merges.txt',\n",
       " './models/guttenberg/added_tokens.json',\n",
       " './models/guttenberg/tokenizer.json')"
      ]
     },
     "execution_count": 17,
     "metadata": {},
     "output_type": "execute_result"
    }
   ],
   "source": [
    "new_tokenizer.save_pretrained(\"./models/guttenberg/\")"
   ]
  },
  {
   "cell_type": "code",
   "execution_count": 13,
   "metadata": {},
   "outputs": [],
   "source": [
    "# load pretrained tokenizer\n",
    "\n",
    "tokenizer = AutoTokenizer.from_pretrained(\"./models/guttenberg/\")"
   ]
  },
  {
   "cell_type": "code",
   "execution_count": 18,
   "metadata": {},
   "outputs": [
    {
     "name": "stdout",
     "output_type": "stream",
     "text": [
      " megválasztásáról\n",
      " Természettudományi\n",
      " irodalomtörténész\n",
      " felhasználásával\n",
      " teherszállításra\n",
      " végrehajtásáról\n",
      " Gazdaságtudományi\n",
      " létrehozásáról\n",
      " környezetvédelmi\n",
      " születésnapjára\n"
     ]
    }
   ],
   "source": [
    "tokens = sorted(new_tokenizer.vocab.items(), key=lambda x: len(x[0]), reverse=True)\n",
    "longests = [new_tokenizer.convert_tokens_to_string([t]) for t, _ in tokens[:10]]\n",
    "for i in longests:\n",
    "    print(i)"
   ]
  },
  {
   "cell_type": "code",
   "execution_count": 19,
   "metadata": {},
   "outputs": [
    {
     "name": "stdout",
     "output_type": "stream",
     "text": [
      "[' őrmester', ' impl', 'ÉSZ', ' Gyors', ' bizonynyal', ' országában', ' valamennyit', ' esnek', ' Off', ' Wol', ' élvonal', ' 219', ' Láttam', ' Göd', ' HA', 'oztatták', ' meglovag', ' röhög', 'okoll', ' húr', 'uet', ' köhög', ' leszármazottja', ' túlélő', 'scar', ' hódító', 'leányt', ' mennyei', 'kérdé', ' Legnagyobb', ' Edge', ' nyilvánította', ' educ', ' vadonban', ' jólét', 'visszav', ' recs', ' visszaáll', ' félni', 'asztos', ' Rok', 'korong', ' gén', ' lepl', ' kiépítés', ' csóv', 'élem', ' fészek', 'ates', 'ο', 'tig', ' sajtótájékoztat', ' period', ' divatos', ' Gondolat', ' ötvenes', ' Julian', ' megmondta', ' 1889', ' ellátó', ' Európába', ' szükségem', ' szentély', ' vélték', ' választáson', 'alacz', ' államot', ' 154', ' nyomott', ' munkában', ' nevü', ' 222', ' cigarett', '–),', 'szim', 'rúg', 'küzd', ' lakótelep', ' Érsekújvár', ' However', 'Francia', ' bővítése', ' kimondta', 'aleány', 'ically', ' kifoszt', ' visszatérni', ' tájban', ' vetették', ' felvétele', 'Albus', ' demokrácia', ' csoportban', ' tűzte', 'ullott', ' ügyét', 'telennek', ' ugyanezt', ' százez', ' vonzó']\n"
     ]
    }
   ],
   "source": [
    "tokens = sorted(new_tokenizer.vocab.items(), key=lambda x: x[1], reverse=True)\n",
    "print([f\"{new_tokenizer.convert_tokens_to_string([t])}\" for t, _ in tokens[:100]])"
   ]
  },
  {
   "cell_type": "code",
   "execution_count": 21,
   "metadata": {},
   "outputs": [
    {
     "name": "stderr",
     "output_type": "stream",
     "text": [
      "100%|██████████| 340000/340000 [00:52<00:00, 6533.20it/s]"
     ]
    },
    {
     "name": "stdout",
     "output_type": "stream",
     "text": [
      "Characters counted: 18128399\n",
      "Old tokenizer used 4534446 number of tokens\n",
      "3.997930287404459 chars per token\n"
     ]
    },
    {
     "name": "stderr",
     "output_type": "stream",
     "text": [
      "\n"
     ]
    }
   ],
   "source": [
    "iter_dataset = iter(dataset)\n",
    "count = 0\n",
    "old_tokenizer_count = 0\n",
    "for i in tqdm(range(340_000)):\n",
    "    text = next(iter_dataset)[\"text\"]\n",
    "    count += len(text)\n",
    "    old_tokenizer_count += len(new_tokenizer(text[:1024])[\"input_ids\"])\n",
    "print(f\"Characters counted: {count}\")\n",
    "print(f\"Old tokenizer used {old_tokenizer_count} number of tokens\")\n",
    "print(f\"{count/old_tokenizer_count} chars per token\")"
   ]
  },
  {
   "cell_type": "code",
   "execution_count": 22,
   "metadata": {},
   "outputs": [],
   "source": [
    "tokens = sorted(new_tokenizer.vocab.items(), key=lambda x: x[1], reverse=True)\n",
    "tokens = [f\"{new_tokenizer.convert_tokens_to_string([t])}\" for t, _ in tokens]\n"
   ]
  },
  {
   "cell_type": "code",
   "execution_count": 25,
   "metadata": {},
   "outputs": [
    {
     "data": {
      "text/plain": [
       "Text(0.5, 1.0, 'Length of an average token')"
      ]
     },
     "execution_count": 25,
     "metadata": {},
     "output_type": "execute_result"
    },
    {
     "data": {
      "image/png": "[encoded data removed]",
      "text/plain": [
       "<Figure size 640x480 with 1 Axes>"
      ]
     },
     "metadata": {},
     "output_type": "display_data"
    }
   ],
   "source": [
    "df = pd.DataFrame.from_dict({\"gpt2\":[2.00], \"hutok\": [3.99]})\n",
    "sns.barplot(df, palette=\"mako\")\n",
    "plt.title(\"Length of an average token\")"
   ]
  },
  {
   "cell_type": "code",
   "execution_count": 27,
   "metadata": {},
   "outputs": [],
   "source": [
    "def check_most_common_words(tokenizer_):\n",
    "    tokens = sorted(tokenizer_.vocab.items(), key=lambda x: x[1], reverse=True)\n",
    "    tokens = [f\"{tokenizer_.convert_tokens_to_string([t])}\" for t, _ in tokens]\n",
    "    most_common_words = []\n",
    "    with open(\"data/common_words.txt\", encoding=\"utf-8\") as f:\n",
    "        most_common_words = f.read().splitlines()\n",
    "    cnt = 0\n",
    "    returns = {}\n",
    "    for word, idx in zip(most_common_words,range(len(most_common_words))):\n",
    "        if word in tokens:\n",
    "            cnt += 1\n",
    "        if idx == 100:\n",
    "            returns[100] = cnt\n",
    "        elif idx == 250:\n",
    "            returns[250] = cnt\n",
    "        elif idx == 500:\n",
    "            returns[500] = cnt\n",
    "        elif idx == 1000:\n",
    "            returns[1000] = cnt\n",
    "    return returns\n"
   ]
  },
  {
   "cell_type": "code",
   "execution_count": 36,
   "metadata": {},
   "outputs": [],
   "source": [
    "results = check_most_common_words(new_tokenizer)\n",
    "results_gpt = check_most_common_words(tokenizer)"
   ]
  },
  {
   "cell_type": "code",
   "execution_count": 56,
   "metadata": {},
   "outputs": [],
   "source": [
    "df = pd.DataFrame(columns=[\"tokenizer\", \"percentage\", \"number of words\"])\n",
    "for key, value in results.items():\n",
    "    df.loc[len(df)] = [\"hutok\", value/key*100, key]\n",
    "   \n",
    "for key, value in results_gpt.items():\n",
    "    df.loc[len(df)] = [\"gpt2\", value/key*100, key]"
   ]
  },
  {
   "cell_type": "code",
   "execution_count": 60,
   "metadata": {},
   "outputs": [
    {
     "data": {
      "text/plain": [
       "Text(0.5, 1.0, 'Percentage of most common words in vocab per tokenizer')"
      ]
     },
     "execution_count": 60,
     "metadata": {},
     "output_type": "execute_result"
    },
    {
     "data": {
      "image/png": "[encoded data removed]",
      "text/plain": [
       "<Figure size 640x480 with 1 Axes>"
      ]
     },
     "metadata": {},
     "output_type": "display_data"
    }
   ],
   "source": [
    "sns.barplot(data=df, x=\"number of words\", y=\"percentage\", hue=\"tokenizer\", palette=\"mako\")\n",
    "plt.title(\"Percentage of most common words in vocab per tokenizer\")"
   ]
  },
  {
   "cell_type": "code",
   "execution_count": 82,
   "metadata": {},
   "outputs": [],
   "source": [
    "from collections import defaultdict\n",
    "\n",
    "def subword_fertility(tokenizer):\n",
    "    my_dict = defaultdict(int)\n",
    "    iter_dataset = iter(dataset)\n",
    "    count = 0\n",
    "\n",
    "\n",
    "    for i in tqdm(range(1000)):\n",
    "        text = next(iter_dataset)[\"text\"]\n",
    "        # count += len(text)\n",
    "        words = text.split()\n",
    "        count += len(words)\n",
    "        for word in words:\n",
    "            token_cnt = len(tokenizer(word)[\"input_ids\"])\n",
    "            my_dict[token_cnt] += 1\n",
    "        # old_tokenizer_count += len(new_tokenizer(text[:1024])[\"input_ids\"])\n",
    "    return my_dict, count\n",
    "\n",
    "def subword_fertility_english(tokenizer):\n",
    "    my_dict = defaultdict(int)\n",
    "    count = 0\n",
    "    text = \"\"\n",
    "    with open(\"data/english.txt\", encoding=\"utf-8\") as f:\n",
    "        text = f.read()\n",
    "    words = text.split()\n",
    "    count += len(words)\n",
    "    for word in words:\n",
    "        token_cnt = len(tokenizer(word)[\"input_ids\"])\n",
    "        my_dict[token_cnt] += 1\n",
    "    # old_tokenizer_count += len(new_tokenizer(text[:1024])[\"input_ids\"])\n",
    "    return my_dict, count\n"
   ]
  },
  {
   "cell_type": "code",
   "execution_count": 84,
   "metadata": {},
   "outputs": [
    {
     "name": "stderr",
     "output_type": "stream",
     "text": [
      "100%|██████████| 1000/1000 [00:04<00:00, 220.18it/s]\n",
      "100%|██████████| 1000/1000 [00:04<00:00, 222.66it/s]\n"
     ]
    }
   ],
   "source": [
    "results, count  = subword_fertility(new_tokenizer)\n",
    "results_gpt, count = subword_fertility(tokenizer)\n"
   ]
  },
  {
   "cell_type": "code",
   "execution_count": 85,
   "metadata": {},
   "outputs": [
    {
     "data": {
      "text/plain": [
       "Text(0.5, 1.0, 'Subword fertility for Hungarian text')"
      ]
     },
     "execution_count": 85,
     "metadata": {},
     "output_type": "execute_result"
    },
    {
     "data": {
      "image/png": "[encoded data removed]",
      "text/plain": [
       "<Figure size 640x480 with 1 Axes>"
      ]
     },
     "metadata": {},
     "output_type": "display_data"
    }
   ],
   "source": [
    "df = pd.DataFrame(columns=[\"tokenizer\", \"percentage\", \"token count\"])\n",
    "for key, value in results.items():\n",
    "    if key > 10:\n",
    "        continue\n",
    "    df.loc[len(df)] = [\"hutok\", value/count*100, key]\n",
    "   \n",
    "for key, value in results_gpt.items():\n",
    "    if key > 10:\n",
    "        continue\n",
    "    df.loc[len(df)] = [\"gpt2\", value/count*100, key]\n",
    "sns.barplot(data=df, x=\"token count\", y=\"percentage\", hue=\"tokenizer\", palette=\"mako\")\n",
    "plt.title(\"Subword fertility for Hungarian text\")"
   ]
  },
  {
   "cell_type": "code",
   "execution_count": 83,
   "metadata": {},
   "outputs": [
    {
     "data": {
      "text/plain": [
       "Text(0.5, 1.0, 'Subword fertility for English text')"
      ]
     },
     "execution_count": 83,
     "metadata": {},
     "output_type": "execute_result"
    },
    {
     "data": {
      "image/png": "[encoded data removed]",
      "text/plain": [
       "<Figure size 640x480 with 1 Axes>"
      ]
     },
     "metadata": {},
     "output_type": "display_data"
    }
   ],
   "source": [
    "results, count  = subword_fertility_english(new_tokenizer)\n",
    "results_gpt, count = subword_fertility_english(tokenizer)\n",
    "\n",
    "df = pd.DataFrame(columns=[\"tokenizer\", \"percentage\", \"token count\"])\n",
    "for key, value in results.items():\n",
    "    if key > 10:\n",
    "        continue\n",
    "    df.loc[len(df)] = [\"hutok\", value/count*100, key]\n",
    "   \n",
    "for key, value in results_gpt.items():\n",
    "    if key > 10:\n",
    "        continue\n",
    "    df.loc[len(df)] = [\"gpt2\", value/count*100, key]\n",
    "sns.barplot(data=df, x=\"token count\", y=\"percentage\", hue=\"tokenizer\", palette=\"mako\")\n",
    "plt.title(\"Subword fertility for English text\")"
   ]
  },
  {
   "cell_type": "code",
   "execution_count": 15,
   "metadata": {},
   "outputs": [],
   "source": [
    "from collections import defaultdict\n",
    "\n",
    "def average_word_len():\n",
    "    my_dict = defaultdict(int)\n",
    "    iter_dataset = iter(dataset)\n",
    "    count = 0\n",
    "    for i in tqdm(range(1000)):\n",
    "        text = next(iter_dataset)[\"text\"]\n",
    "        # count += len(text)\n",
    "        words = text.split()\n",
    "        count += len(words)\n",
    "        for word in words:\n",
    "            my_dict[len(word)] += 1\n",
    "        # old_tokenizer_count += len(new_tokenizer(text[:1024])[\"input_ids\"])\n",
    "    return my_dict, count\n",
    "\n",
    "def average_word_len_english():\n",
    "    my_dict = defaultdict(int)\n",
    "    count = 0\n",
    "    text = \"\"\n",
    "    with open(\"data/english.txt\", encoding=\"utf-8\") as f:\n",
    "        text = f.read()\n",
    "    words = text.split()\n",
    "    count += len(words)\n",
    "    for word in words:\n",
    "        my_dict[len(word)] += 1\n",
    "    # old_tokenizer_count += len(new_tokenizer(text[:1024])[\"input_ids\"])\n",
    "    return my_dict, count"
   ]
  },
  {
   "cell_type": "code",
   "execution_count": 21,
   "metadata": {},
   "outputs": [
    {
     "name": "stderr",
     "output_type": "stream",
     "text": [
      "100%|██████████| 1000/1000 [00:00<00:00, 26510.99it/s]\n"
     ]
    },
    {
     "data": {
      "text/plain": [
       "Text(0.5, 1.0, 'Word length by language')"
      ]
     },
     "execution_count": 21,
     "metadata": {},
     "output_type": "execute_result"
    },
    {
     "data": {
      "image/png": "[encoded data removed]",
      "text/plain": [
       "<Figure size 640x480 with 1 Axes>"
      ]
     },
     "metadata": {},
     "output_type": "display_data"
    }
   ],
   "source": [
    "results, count  = average_word_len()\n",
    "results_gpt, count = average_word_len_english()\n",
    "\n",
    "df = pd.DataFrame(columns=[\"language\", \"percentage\", \"word length\"])\n",
    "for key, value in results.items():\n",
    "    if key > 20 or key < 4:\n",
    "        continue\n",
    "    df.loc[len(df)] = [\"Hungarian\", value/count*100, key]\n",
    "   \n",
    "for key, value in results_gpt.items():\n",
    "    if key > 20 or key < 4:\n",
    "        continue\n",
    "    df.loc[len(df)] = [\"English\", value/count*100, key]\n",
    "sns.barplot(data=df, x=\"word length\", y=\"percentage\", hue=\"language\", palette=\"mako\")\n",
    "plt.title(\"Word length by language\")"
   ]
  },
  {
   "cell_type": "code",
   "execution_count": 13,
   "metadata": {},
   "outputs": [
    {
     "data": {
      "text/plain": [
       "defaultdict(int,\n",
       "            {2: 1743,\n",
       "             4: 1418,\n",
       "             11: 900,\n",
       "             1: 1789,\n",
       "             5: 1971,\n",
       "             9: 1302,\n",
       "             7: 1862,\n",
       "             6: 1712,\n",
       "             3: 1127,\n",
       "             10: 1066,\n",
       "             8: 1484,\n",
       "             12: 615,\n",
       "             14: 297,\n",
       "             13: 433,\n",
       "             20: 15,\n",
       "             17: 80,\n",
       "             15: 185,\n",
       "             21: 14,\n",
       "             19: 37,\n",
       "             18: 43,\n",
       "             24: 5,\n",
       "             16: 101,\n",
       "             22: 6,\n",
       "             25: 1,\n",
       "             36: 1,\n",
       "             23: 2,\n",
       "             28: 1,\n",
       "             32: 1})"
      ]
     },
     "execution_count": 13,
     "metadata": {},
     "output_type": "execute_result"
    }
   ],
   "source": []
  },
  {
   "cell_type": "code",
   "execution_count": null,
   "metadata": {},
   "outputs": [],
   "source": []
  }
 ],
 "metadata": {
  "kernelspec": {
   "display_name": "Python 3",
   "language": "python",
   "name": "python3"
  },
  "language_info": {
   "codemirror_mode": {
    "name": "ipython",
    "version": 3
   },
   "file_extension": ".py",
   "mimetype": "text/x-python",
   "name": "python",
   "nbconvert_exporter": "python",
   "pygments_lexer": "ipython3",
   "version": "3.10.6"
  },
  "orig_nbformat": 4,
  "vscode": {
   "interpreter": {
    "hash": "44e16c534368ac064e61b58658c807d154c8537c572d240df5d25e3eee4632f0"
   }
  }
 },
 "nbformat": 4,
 "nbformat_minor": 2
}
