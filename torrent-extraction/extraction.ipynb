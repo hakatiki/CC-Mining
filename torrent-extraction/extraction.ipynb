{
 "cells": [
  {
   "cell_type": "code",
   "execution_count": null,
   "metadata": {},
   "outputs": [],
   "source": [
    "import os\n",
    "from PyPDF2 import PdfReader"
   ]
  },
  {
   "cell_type": "code",
   "execution_count": null,
   "metadata": {},
   "outputs": [],
   "source": [
    "folder_path = r\"C:\\Users\\takat\\Documents\\Programming\\NLP vol 2\\data\\Torrent\\downloads\\txt\"\n",
    "save_folder = r\"C:\\Users\\takat\\Documents\\Programming\\NLP vol 2\\data\\Torrent\\downloads\\extracted-text\""
   ]
  },
  {
   "cell_type": "code",
   "execution_count": null,
   "metadata": {},
   "outputs": [],
   "source": [
    "\n",
    "files = os.listdir(folder_path)\n",
    "\n",
    "for file in files[:-1]:\n",
    "    content = None\n",
    "    file_path = os.path.join(folder_path, file)\n",
    "    try:\n",
    "        with open(file_path, \"r\", encoding=\"utf-8\") as f:\n",
    "            # Do something with the file, for example:\n",
    "            content = f.read()\n",
    "            # ...\n",
    "            # print(content)\n",
    "    except:\n",
    "        print(\"No bueno\")\n",
    "    try:\n",
    "         with open(file_path, \"r\", encoding=\"latin1\") as f:\n",
    "            # Do something with the file, for example:\n",
    "            content = f.read()\n",
    "            # ...\n",
    "            # print(content)\n",
    "    except:\n",
    "        print(\"No bueno\")\n",
    "    save_path = os.path.join(save_folder, file)\n",
    "    with open(save_path, \"w\", encoding=\"utf-8\") as f:\n",
    "        f.write(content)\n"
   ]
  },
  {
   "cell_type": "code",
   "execution_count": null,
   "metadata": {},
   "outputs": [],
   "source": [
    "folder_path = r\"C:\\Users\\takat\\Documents\\Programming\\NLP vol 2\\data\\Torrent\\downloads\\pdfs\"\n",
    "files = os.listdir(folder_path)\n",
    "# Open the PDF file\n",
    "for file in files:\n",
    "    content = None\n",
    "    file_path = os.path.join(folder_path, file)\n",
    "\n",
    "    try:\n",
    "        reader = PdfReader(file_path)\n",
    "        pages = \"\"\n",
    "        # getting a specific page from the pdf file\n",
    "        for i in range(len(reader.pages)):\n",
    "            page = reader.pages[i]\n",
    "            text = page.extract_text()\n",
    "            pages += \"\\n\"+text\n",
    "        save_path = os.path.join(save_folder,file.replace(\".pdf\",\".txt\"))\n",
    "        with open(save_path, \"w\", encoding=\"utf-8\") as f:\n",
    "            f.write(pages)\n",
    "    except:\n",
    "        print(\"No bueno\")\n"
   ]
  },
  {
   "cell_type": "code",
   "execution_count": null,
   "metadata": {},
   "outputs": [],
   "source": []
  }
 ],
 "metadata": {
  "kernelspec": {
   "display_name": "Python 3",
   "language": "python",
   "name": "python3"
  },
  "language_info": {
   "codemirror_mode": {
    "name": "ipython",
    "version": 3
   },
   "file_extension": ".py",
   "mimetype": "text/x-python",
   "name": "python",
   "nbconvert_exporter": "python",
   "pygments_lexer": "ipython3",
   "version": "3.10.6"
  },
  "orig_nbformat": 4
 },
 "nbformat": 4,
 "nbformat_minor": 2
}
